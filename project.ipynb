{
 "cells": [
  {
   "cell_type": "code",
   "execution_count": 4,
   "metadata": {},
   "outputs": [],
   "source": [
    "# https://dataverse.harvard.edu/api/access/datafile/:persistentId?persistentId=doi:10.7910/DVN/HG7NV7/XTPZZY\n",
    "# https://dataverse.harvard.edu/api/access/datafile/:persistentId?persistentId=doi:10.7910/DVN/HG7NV7/IP6BL3\n",
    "# https://dataverse.harvard.edu/api/access/datafile/:persistentId?persistentId=doi:10.7910/DVN/HG7NV7/3NOQ6Q"
   ]
  },
  {
   "cell_type": "code",
   "execution_count": 5,
   "metadata": {},
   "outputs": [],
   "source": [
    "# pip install ipython-sql"
   ]
  },
  {
   "cell_type": "code",
   "execution_count": null,
   "metadata": {},
   "outputs": [],
   "source": [
    "%load_ext sql"
   ]
  },
  {
   "cell_type": "code",
   "execution_count": 7,
   "metadata": {},
   "outputs": [],
   "source": [
    "import csv, sqlite3\n",
    "import pandas as pd"
   ]
  },
  {
   "cell_type": "code",
   "execution_count": 8,
   "metadata": {},
   "outputs": [],
   "source": [
    "con = sqlite3.connect(\"yash_1999.db\")\n",
    "cur = con.cursor()"
   ]
  },
  {
   "cell_type": "code",
   "execution_count": null,
   "metadata": {},
   "outputs": [],
   "source": [
    "df_all = pd.read_csv('1999 (1).csv.bz2')\n",
    "df_all.shape # (5527884, 29)"
   ]
  },
  {
   "cell_type": "code",
   "execution_count": 73,
   "metadata": {},
   "outputs": [],
   "source": [
    "%sql sqlite:///airline.db"
   ]
  },
  {
   "cell_type": "code",
   "execution_count": 74,
   "metadata": {},
   "outputs": [
    {
     "data": {
      "text/plain": [
       "10000"
      ]
     },
     "execution_count": 74,
     "metadata": {},
     "output_type": "execute_result"
    }
   ],
   "source": [
    "# reading 10000 records from 1999_year file\n",
    "df = df_all.sample(10000)\n",
    "df.to_sql('airline_1999', con, index=False, if_exists='replace')"
   ]
  },
  {
   "cell_type": "code",
   "execution_count": 75,
   "metadata": {},
   "outputs": [
    {
     "data": {
      "text/plain": [
       "3376"
      ]
     },
     "execution_count": 75,
     "metadata": {},
     "output_type": "execute_result"
    }
   ],
   "source": [
    "# add airport table\n",
    "df1 = pd.read_csv('airports.csv')\n",
    "df1.to_sql('airport', con, index=False, if_exists='replace')"
   ]
  },
  {
   "cell_type": "code",
   "execution_count": 76,
   "metadata": {},
   "outputs": [
    {
     "data": {
      "text/plain": [
       "1491"
      ]
     },
     "execution_count": 76,
     "metadata": {},
     "output_type": "execute_result"
    }
   ],
   "source": [
    "# add carrier table\n",
    "df2 = pd.read_csv('carriers.csv')\n",
    "df2.to_sql('carrier', con, index=False, if_exists='replace')"
   ]
  },
  {
   "cell_type": "code",
   "execution_count": 77,
   "metadata": {},
   "outputs": [
    {
     "name": "stdout",
     "output_type": "stream",
     "text": [
      " * sqlite:///airline.db\n",
      "Done.\n"
     ]
    },
    {
     "data": {
      "text/html": [
       "<table>\n",
       "    <thead>\n",
       "        <tr>\n",
       "            <th>Year</th>\n",
       "            <th>Month</th>\n",
       "            <th>DayofMonth</th>\n",
       "            <th>DayOfWeek</th>\n",
       "            <th>DepTime</th>\n",
       "            <th>CRSDepTime</th>\n",
       "            <th>ArrTime</th>\n",
       "            <th>CRSArrTime</th>\n",
       "            <th>UniqueCarrier</th>\n",
       "            <th>FlightNum</th>\n",
       "            <th>TailNum</th>\n",
       "            <th>ActualElapsedTime</th>\n",
       "            <th>CRSElapsedTime</th>\n",
       "            <th>AirTime</th>\n",
       "            <th>ArrDelay</th>\n",
       "            <th>DepDelay</th>\n",
       "            <th>Origin</th>\n",
       "            <th>Dest</th>\n",
       "            <th>Distance</th>\n",
       "            <th>TaxiIn</th>\n",
       "            <th>TaxiOut</th>\n",
       "            <th>Cancelled</th>\n",
       "            <th>CancellationCode</th>\n",
       "            <th>Diverted</th>\n",
       "            <th>CarrierDelay</th>\n",
       "            <th>WeatherDelay</th>\n",
       "            <th>NASDelay</th>\n",
       "            <th>SecurityDelay</th>\n",
       "            <th>LateAircraftDelay</th>\n",
       "        </tr>\n",
       "    </thead>\n",
       "    <tbody>\n",
       "        <tr>\n",
       "            <td>1999</td>\n",
       "            <td>7</td>\n",
       "            <td>23</td>\n",
       "            <td>5</td>\n",
       "            <td>1404.0</td>\n",
       "            <td>1400</td>\n",
       "            <td>1518.0</td>\n",
       "            <td>1517</td>\n",
       "            <td>US</td>\n",
       "            <td>1278</td>\n",
       "            <td>N433US</td>\n",
       "            <td>74.0</td>\n",
       "            <td>77.0</td>\n",
       "            <td>60.0</td>\n",
       "            <td>1.0</td>\n",
       "            <td>4.0</td>\n",
       "            <td>PIT</td>\n",
       "            <td>BDL</td>\n",
       "            <td>406</td>\n",
       "            <td>4</td>\n",
       "            <td>10</td>\n",
       "            <td>0</td>\n",
       "            <td>None</td>\n",
       "            <td>0</td>\n",
       "            <td>None</td>\n",
       "            <td>None</td>\n",
       "            <td>None</td>\n",
       "            <td>None</td>\n",
       "            <td>None</td>\n",
       "        </tr>\n",
       "        <tr>\n",
       "            <td>1999</td>\n",
       "            <td>2</td>\n",
       "            <td>11</td>\n",
       "            <td>4</td>\n",
       "            <td>841.0</td>\n",
       "            <td>845</td>\n",
       "            <td>1027.0</td>\n",
       "            <td>1036</td>\n",
       "            <td>TW</td>\n",
       "            <td>485</td>\n",
       "            <td>N24343</td>\n",
       "            <td>166.0</td>\n",
       "            <td>171.0</td>\n",
       "            <td>134.0</td>\n",
       "            <td>-9.0</td>\n",
       "            <td>-4.0</td>\n",
       "            <td>MIA</td>\n",
       "            <td>STL</td>\n",
       "            <td>1068</td>\n",
       "            <td>22</td>\n",
       "            <td>10</td>\n",
       "            <td>0</td>\n",
       "            <td>None</td>\n",
       "            <td>0</td>\n",
       "            <td>None</td>\n",
       "            <td>None</td>\n",
       "            <td>None</td>\n",
       "            <td>None</td>\n",
       "            <td>None</td>\n",
       "        </tr>\n",
       "        <tr>\n",
       "            <td>1999</td>\n",
       "            <td>3</td>\n",
       "            <td>10</td>\n",
       "            <td>3</td>\n",
       "            <td>1441.0</td>\n",
       "            <td>1425</td>\n",
       "            <td>1702.0</td>\n",
       "            <td>1649</td>\n",
       "            <td>AA</td>\n",
       "            <td>2020</td>\n",
       "            <td>N539AA</td>\n",
       "            <td>141.0</td>\n",
       "            <td>144.0</td>\n",
       "            <td>125.0</td>\n",
       "            <td>13.0</td>\n",
       "            <td>16.0</td>\n",
       "            <td>AUS</td>\n",
       "            <td>ORD</td>\n",
       "            <td>978</td>\n",
       "            <td>6</td>\n",
       "            <td>10</td>\n",
       "            <td>0</td>\n",
       "            <td>None</td>\n",
       "            <td>0</td>\n",
       "            <td>None</td>\n",
       "            <td>None</td>\n",
       "            <td>None</td>\n",
       "            <td>None</td>\n",
       "            <td>None</td>\n",
       "        </tr>\n",
       "        <tr>\n",
       "            <td>1999</td>\n",
       "            <td>2</td>\n",
       "            <td>9</td>\n",
       "            <td>2</td>\n",
       "            <td>1156.0</td>\n",
       "            <td>1200</td>\n",
       "            <td>1244.0</td>\n",
       "            <td>1259</td>\n",
       "            <td>UA</td>\n",
       "            <td>617</td>\n",
       "            <td>N815UA</td>\n",
       "            <td>108.0</td>\n",
       "            <td>119.0</td>\n",
       "            <td>96.0</td>\n",
       "            <td>-15.0</td>\n",
       "            <td>-4.0</td>\n",
       "            <td>DCA</td>\n",
       "            <td>ORD</td>\n",
       "            <td>612</td>\n",
       "            <td>4</td>\n",
       "            <td>8</td>\n",
       "            <td>0</td>\n",
       "            <td>None</td>\n",
       "            <td>0</td>\n",
       "            <td>None</td>\n",
       "            <td>None</td>\n",
       "            <td>None</td>\n",
       "            <td>None</td>\n",
       "            <td>None</td>\n",
       "        </tr>\n",
       "        <tr>\n",
       "            <td>1999</td>\n",
       "            <td>12</td>\n",
       "            <td>28</td>\n",
       "            <td>2</td>\n",
       "            <td>1534.0</td>\n",
       "            <td>1412</td>\n",
       "            <td>1640.0</td>\n",
       "            <td>1536</td>\n",
       "            <td>AA</td>\n",
       "            <td>1227</td>\n",
       "            <td>N454AA</td>\n",
       "            <td>186.0</td>\n",
       "            <td>204.0</td>\n",
       "            <td>167.0</td>\n",
       "            <td>64.0</td>\n",
       "            <td>82.0</td>\n",
       "            <td>DFW</td>\n",
       "            <td>LAX</td>\n",
       "            <td>1235</td>\n",
       "            <td>5</td>\n",
       "            <td>14</td>\n",
       "            <td>0</td>\n",
       "            <td>None</td>\n",
       "            <td>0</td>\n",
       "            <td>None</td>\n",
       "            <td>None</td>\n",
       "            <td>None</td>\n",
       "            <td>None</td>\n",
       "            <td>None</td>\n",
       "        </tr>\n",
       "    </tbody>\n",
       "</table>"
      ],
      "text/plain": [
       "[(1999, 7, 23, 5, 1404.0, 1400, 1518.0, 1517, 'US', 1278, 'N433US', 74.0, 77.0, 60.0, 1.0, 4.0, 'PIT', 'BDL', 406, 4, 10, 0, None, 0, None, None, None, None, None),\n",
       " (1999, 2, 11, 4, 841.0, 845, 1027.0, 1036, 'TW', 485, 'N24343', 166.0, 171.0, 134.0, -9.0, -4.0, 'MIA', 'STL', 1068, 22, 10, 0, None, 0, None, None, None, None, None),\n",
       " (1999, 3, 10, 3, 1441.0, 1425, 1702.0, 1649, 'AA', 2020, 'N539AA', 141.0, 144.0, 125.0, 13.0, 16.0, 'AUS', 'ORD', 978, 6, 10, 0, None, 0, None, None, None, None, None),\n",
       " (1999, 2, 9, 2, 1156.0, 1200, 1244.0, 1259, 'UA', 617, 'N815UA', 108.0, 119.0, 96.0, -15.0, -4.0, 'DCA', 'ORD', 612, 4, 8, 0, None, 0, None, None, None, None, None),\n",
       " (1999, 12, 28, 2, 1534.0, 1412, 1640.0, 1536, 'AA', 1227, 'N454AA', 186.0, 204.0, 167.0, 64.0, 82.0, 'DFW', 'LAX', 1235, 5, 14, 0, None, 0, None, None, None, None, None)]"
      ]
     },
     "execution_count": 77,
     "metadata": {},
     "output_type": "execute_result"
    }
   ],
   "source": [
    "%sql SELECT * FROM airline_1999 LIMIT 5;"
   ]
  },
  {
   "cell_type": "code",
   "execution_count": 175,
   "metadata": {},
   "outputs": [
    {
     "name": "stdout",
     "output_type": "stream",
     "text": [
      " * sqlite:///airline.db\n",
      "Done.\n"
     ]
    },
    {
     "data": {
      "text/html": [
       "<table>\n",
       "    <thead>\n",
       "        <tr>\n",
       "            <th>iata</th>\n",
       "            <th>airport</th>\n",
       "            <th>city</th>\n",
       "            <th>state</th>\n",
       "            <th>country</th>\n",
       "            <th>lat</th>\n",
       "            <th>long</th>\n",
       "        </tr>\n",
       "    </thead>\n",
       "    <tbody>\n",
       "        <tr>\n",
       "            <td>00M</td>\n",
       "            <td>Thigpen </td>\n",
       "            <td>Bay Springs</td>\n",
       "            <td>MS</td>\n",
       "            <td>USA</td>\n",
       "            <td>31.95376472</td>\n",
       "            <td>-89.23450472</td>\n",
       "        </tr>\n",
       "        <tr>\n",
       "            <td>00R</td>\n",
       "            <td>Livingston Municipal</td>\n",
       "            <td>Livingston</td>\n",
       "            <td>TX</td>\n",
       "            <td>USA</td>\n",
       "            <td>30.68586111</td>\n",
       "            <td>-95.01792778</td>\n",
       "        </tr>\n",
       "        <tr>\n",
       "            <td>00V</td>\n",
       "            <td>Meadow Lake</td>\n",
       "            <td>Colorado Springs</td>\n",
       "            <td>CO</td>\n",
       "            <td>USA</td>\n",
       "            <td>38.94574889</td>\n",
       "            <td>-104.5698933</td>\n",
       "        </tr>\n",
       "        <tr>\n",
       "            <td>01G</td>\n",
       "            <td>Perry-Warsaw</td>\n",
       "            <td>Perry</td>\n",
       "            <td>NY</td>\n",
       "            <td>USA</td>\n",
       "            <td>42.74134667</td>\n",
       "            <td>-78.05208056</td>\n",
       "        </tr>\n",
       "        <tr>\n",
       "            <td>01J</td>\n",
       "            <td>Hilliard Airpark</td>\n",
       "            <td>Hilliard</td>\n",
       "            <td>FL</td>\n",
       "            <td>USA</td>\n",
       "            <td>30.6880125</td>\n",
       "            <td>-81.90594389</td>\n",
       "        </tr>\n",
       "    </tbody>\n",
       "</table>"
      ],
      "text/plain": [
       "[('00M', 'Thigpen ', 'Bay Springs', 'MS', 'USA', 31.95376472, -89.23450472),\n",
       " ('00R', 'Livingston Municipal', 'Livingston', 'TX', 'USA', 30.68586111, -95.01792778),\n",
       " ('00V', 'Meadow Lake', 'Colorado Springs', 'CO', 'USA', 38.94574889, -104.5698933),\n",
       " ('01G', 'Perry-Warsaw', 'Perry', 'NY', 'USA', 42.74134667, -78.05208056),\n",
       " ('01J', 'Hilliard Airpark', 'Hilliard', 'FL', 'USA', 30.6880125, -81.90594389)]"
      ]
     },
     "execution_count": 175,
     "metadata": {},
     "output_type": "execute_result"
    }
   ],
   "source": [
    "%sql SELECT * FROM airport LIMIT 5"
   ]
  },
  {
   "cell_type": "code",
   "execution_count": 182,
   "metadata": {},
   "outputs": [
    {
     "name": "stdout",
     "output_type": "stream",
     "text": [
      " * sqlite:///airline.db\n",
      "Done.\n"
     ]
    },
    {
     "data": {
      "text/html": [
       "<table>\n",
       "    <thead>\n",
       "        <tr>\n",
       "            <th>Code</th>\n",
       "            <th>Description</th>\n",
       "        </tr>\n",
       "    </thead>\n",
       "    <tbody>\n",
       "        <tr>\n",
       "            <td>WL</td>\n",
       "            <td>World Air Network</td>\n",
       "        </tr>\n",
       "    </tbody>\n",
       "</table>"
      ],
      "text/plain": [
       "[('WL', 'World Air Network')]"
      ]
     },
     "execution_count": 182,
     "metadata": {},
     "output_type": "execute_result"
    }
   ],
   "source": [
    "%sql SELECT * FROM carrier WHERE Code = 'WL';\n"
   ]
  },
  {
   "attachments": {},
   "cell_type": "markdown",
   "metadata": {},
   "source": [
    "airplane fly from Origin which has DepDelay to Dest which has ArrDelay\n",
    "\n",
    "delay time for airports is calculated as total delay due to ArrDelay & DepDelay"
   ]
  },
  {
   "attachments": {},
   "cell_type": "markdown",
   "metadata": {},
   "source": [
    "the three airports with the highest delay time (in hours)."
   ]
  },
  {
   "cell_type": "code",
   "execution_count": 179,
   "metadata": {},
   "outputs": [
    {
     "name": "stdout",
     "output_type": "stream",
     "text": [
      " * sqlite:///airline.db\n",
      "Done.\n"
     ]
    },
    {
     "data": {
      "text/html": [
       "<table>\n",
       "    <thead>\n",
       "        <tr>\n",
       "            <th>Airport_Code</th>\n",
       "            <th>Airport_Name</th>\n",
       "            <th>Arrival_Delay</th>\n",
       "            <th>Departure_Delay</th>\n",
       "            <th>Total_Delay</th>\n",
       "        </tr>\n",
       "    </thead>\n",
       "    <tbody>\n",
       "        <tr>\n",
       "            <td>ORD</td>\n",
       "            <td>Chicago O&#x27;Hare International</td>\n",
       "            <td>6729.0</td>\n",
       "            <td>7217.0</td>\n",
       "            <td>13946.0</td>\n",
       "        </tr>\n",
       "        <tr>\n",
       "            <td>ATL</td>\n",
       "            <td>William B Hartsfield-Atlanta Intl</td>\n",
       "            <td>5572.0</td>\n",
       "            <td>5262.0</td>\n",
       "            <td>10834.0</td>\n",
       "        </tr>\n",
       "        <tr>\n",
       "            <td>DFW</td>\n",
       "            <td>Dallas-Fort Worth International</td>\n",
       "            <td>5277.0</td>\n",
       "            <td>3670.0</td>\n",
       "            <td>8947.0</td>\n",
       "        </tr>\n",
       "    </tbody>\n",
       "</table>"
      ],
      "text/plain": [
       "[('ORD', \"Chicago O'Hare International\", 6729.0, 7217.0, 13946.0),\n",
       " ('ATL', 'William B Hartsfield-Atlanta Intl', 5572.0, 5262.0, 10834.0),\n",
       " ('DFW', 'Dallas-Fort Worth International', 5277.0, 3670.0, 8947.0)]"
      ]
     },
     "execution_count": 179,
     "metadata": {},
     "output_type": "execute_result"
    }
   ],
   "source": [
    "%%sql\n",
    "SELECT left.Airport_Code,\n",
    "    right.airport AS Airport_Name,\n",
    "    left.Arrival_Delay,\n",
    "    left.Departure_Delay,\n",
    "    left.Total_Delay    \n",
    "FROM\n",
    "    (SELECT\n",
    "        DESTINATION.Arrival_Airport AS Airport_Code,\n",
    "        DESTINATION.Arrival_Delay,\n",
    "        DEPARTURE.Departure_Delay, \n",
    "        SUM(DESTINATION.Arrival_Delay + DEPARTURE.Departure_Delay) AS Total_Delay\n",
    "    FROM \n",
    "        (SELECT\n",
    "            a.Dest AS Arrival_Airport,\n",
    "            SUM(\n",
    "                IIF\n",
    "                (a.ArrDelay < 0,\n",
    "                    0,\n",
    "                    a.ArrDelay)) AS Arrival_Delay\n",
    "        FROM airline_1999 AS a\n",
    "        GROUP BY a.Dest) AS DESTINATION\n",
    "    FULL OUTER JOIN \n",
    "        (SELECT\n",
    "            a.Origin AS Departure_Airport,\n",
    "            SUM(\n",
    "                IIF\n",
    "                (a.DepDelay < 0,\n",
    "                    0,\n",
    "                    a.DepDelay)) AS Departure_Delay\n",
    "        FROM airline_1999 AS a\n",
    "        GROUP BY a.Origin) AS DEPARTURE\n",
    "    ON DESTINATION.Arrival_Airport = DEPARTURE.Departure_Airport\n",
    "    GROUP BY DESTINATION.Arrival_Airport\n",
    "    ORDER BY Total_Delay desc\n",
    "    LIMIT 3) AS left\n",
    "LEFT JOIN airport AS right\n",
    "ON left.Airport_Code = right.iata;"
   ]
  },
  {
   "cell_type": "code",
   "execution_count": 172,
   "metadata": {},
   "outputs": [
    {
     "name": "stdout",
     "output_type": "stream",
     "text": [
      " * sqlite:///airline.db\n",
      "Done.\n"
     ]
    },
    {
     "data": {
      "text/html": [
       "<table>\n",
       "    <thead>\n",
       "        <tr>\n",
       "            <th>Carrier_Code</th>\n",
       "            <th>Description</th>\n",
       "            <th>Arrival_Delay</th>\n",
       "            <th>Departure_Delay</th>\n",
       "            <th>Total_Delay</th>\n",
       "            <th>Largest_Delay</th>\n",
       "            <th>Delay_Type</th>\n",
       "        </tr>\n",
       "    </thead>\n",
       "    <tbody>\n",
       "        <tr>\n",
       "            <td>UA</td>\n",
       "            <td>United Air Lines Inc.</td>\n",
       "            <td>18896.0</td>\n",
       "            <td>16052.0</td>\n",
       "            <td>34948.0</td>\n",
       "            <td>18896.0</td>\n",
       "            <td>Arrival_Delay</td>\n",
       "        </tr>\n",
       "        <tr>\n",
       "            <td>US</td>\n",
       "            <td>US Airways Inc. (Merged with America West 9/05. Reporting for both starting 10/07.)</td>\n",
       "            <td>17111.0</td>\n",
       "            <td>14327.0</td>\n",
       "            <td>31438.0</td>\n",
       "            <td>17111.0</td>\n",
       "            <td>Arrival_Delay</td>\n",
       "        </tr>\n",
       "        <tr>\n",
       "            <td>WN</td>\n",
       "            <td>Southwest Airlines Co.</td>\n",
       "            <td>15523.0</td>\n",
       "            <td>15454.0</td>\n",
       "            <td>30977.0</td>\n",
       "            <td>15523.0</td>\n",
       "            <td>Arrival_Delay</td>\n",
       "        </tr>\n",
       "    </tbody>\n",
       "</table>"
      ],
      "text/plain": [
       "[('UA', 'United Air Lines Inc.', 18896.0, 16052.0, 34948.0, 18896.0, 'Arrival_Delay'),\n",
       " ('US', 'US Airways Inc. (Merged with America West 9/05. Reporting for both starting 10/07.)', 17111.0, 14327.0, 31438.0, 17111.0, 'Arrival_Delay'),\n",
       " ('WN', 'Southwest Airlines Co.', 15523.0, 15454.0, 30977.0, 15523.0, 'Arrival_Delay')]"
      ]
     },
     "execution_count": 172,
     "metadata": {},
     "output_type": "execute_result"
    }
   ],
   "source": [
    "%%sql\n",
    "SELECT\n",
    "    left.Carrier_Code,\n",
    "    right.Description,\n",
    "    left.Arrival_Delay,\n",
    "    left.Departure_Delay,\n",
    "    (left.Arrival_Delay+left.Departure_Delay) AS Total_Delay,\n",
    "    MAX(left.Arrival_Delay,left.Departure_Delay) AS Largest_Delay,\n",
    "    IIF(\n",
    "        MAX(left.Arrival_Delay,left.Departure_Delay) = left.Arrival_Delay,\n",
    "            'Arrival_Delay',\n",
    "            'Departure_Delay') AS Delay_Type \n",
    "FROM\n",
    "    (SELECT\n",
    "        a.UniqueCarrier AS Carrier_Code, \n",
    "        SUM(\n",
    "            IIF\n",
    "            (a.ArrDelay < 0,\n",
    "                0,\n",
    "                a.ArrDelay)) AS Arrival_Delay,\n",
    "        SUM(\n",
    "            IIF\n",
    "            (a.DepDelay < 0,\n",
    "                0,\n",
    "                a.DepDelay)) AS Departure_Delay\n",
    "    FROM\n",
    "        airline_1999 AS a      \n",
    "    GROUP BY a.UniqueCarrier) AS left\n",
    "INNER JOIN carrier AS right\n",
    "ON left.Carrier_Code = right.Code\n",
    "ORDER BY Total_Delay desc \n",
    "LIMIT 3"
   ]
  },
  {
   "cell_type": "code",
   "execution_count": 180,
   "metadata": {},
   "outputs": [
    {
     "name": "stdout",
     "output_type": "stream",
     "text": [
      " * sqlite:///airline.db\n",
      "(sqlite3.OperationalError) no such function: IF\n",
      "[SQL: SELECT\n",
      "    a.Dest AS Arrival_Airport,\n",
      "    SUM(\n",
      "        IF\n",
      "        (a.ArrDelay < 0,\n",
      "            0,\n",
      "            a.ArrDelay)) AS Arrival_Delay\n",
      "FROM airline_1999 AS a\n",
      "GROUP BY a.Dest;]\n",
      "(Background on this error at: https://sqlalche.me/e/20/e3q8)\n"
     ]
    }
   ],
   "source": [
    "%%sql\n",
    "SELECT\n",
    "    a.Dest AS Arrival_Airport,\n",
    "    SUM(\n",
    "        IF\n",
    "        (a.ArrDelay < 0,\n",
    "            0,\n",
    "            a.ArrDelay)) AS Arrival_Delay\n",
    "FROM airline_1999 AS a\n",
    "GROUP BY a.Dest;"
   ]
  },
  {
   "cell_type": "code",
   "execution_count": null,
   "metadata": {},
   "outputs": [],
   "source": []
  }
 ],
 "metadata": {
  "kernelspec": {
   "display_name": "Python 3",
   "language": "python",
   "name": "python3"
  },
  "language_info": {
   "codemirror_mode": {
    "name": "ipython",
    "version": 3
   },
   "file_extension": ".py",
   "mimetype": "text/x-python",
   "name": "python",
   "nbconvert_exporter": "python",
   "pygments_lexer": "ipython3",
   "version": "3.10.10"
  },
  "orig_nbformat": 4
 },
 "nbformat": 4,
 "nbformat_minor": 2
}
